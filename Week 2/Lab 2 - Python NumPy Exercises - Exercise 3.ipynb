{
 "cells": [
  {
   "cell_type": "code",
   "execution_count": 52,
   "id": "e28328f0-86ba-4be2-b64e-d93dea2ac555",
   "metadata": {},
   "outputs": [],
   "source": [
    "def multiply_matrix_by_vector(m, v):\n",
    "    R,C = m.shape  \n",
    "    n, = v.shape \n",
    "\n",
    "    print(\"\\nR and C are\", R, C)\n",
    "\n",
    "    if C != n:\n",
    "        print(\"\\narray and vector shapes not matching\\n\")\n",
    "        return None\n",
    "\n",
    "    # u = m multiplied by v, initialize u to 0\n",
    "    u = np.zeros(R)\n",
    "\n",
    "    # Nested for loops for multiplication\n",
    "    for i in range(R):\n",
    "        for j in range(C):\n",
    "            u[i] += m[i][j] * v[j]\n",
    "\n",
    "    return u\n"
   ]
  },
  {
   "cell_type": "code",
   "execution_count": 56,
   "id": "e49eacfc-ce91-42b7-94ab-f810caf8ec95",
   "metadata": {},
   "outputs": [],
   "source": [
    "def multiply_matrices(a, b):\n",
    "    R,C1 = a.shape  \n",
    "    R1,C = b.shape \n",
    "\n",
    "    if C1 != R1:\n",
    "        print(\"\\narray shapes not matching\\n\")\n",
    "        return None\n",
    "\n",
    "    # Initialize result matrix with zeros\n",
    "    C = np.zeros((R, C))\n",
    "\n",
    "    # Nested for loops for multiplication\n",
    "    for i in range(R):\n",
    "        for j in range(C):\n",
    "            for k in range(C1):\n",
    "                C[i][j] += a[i][k] * b[k][j]\n",
    "\n",
    "    return C"
   ]
  },
  {
   "cell_type": "code",
   "execution_count": 58,
   "id": "80df0baf-4f91-4cc2-83e4-b6f613085fcc",
   "metadata": {},
   "outputs": [],
   "source": [
    "def f(x, matrices):\n",
    "    y = x\n",
    "\n",
    "    for m in matrices:\n",
    "        # Missing code: multiply the current result by the next matrix\n",
    "        y = multiply_matrix_by_vector(m, y)\n",
    "\n",
    "    return y\n"
   ]
  },
  {
   "cell_type": "code",
   "execution_count": 68,
   "id": "22451b13-a2c1-4b13-b168-db46687f3fe4",
   "metadata": {},
   "outputs": [
    {
     "name": "stdout",
     "output_type": "stream",
     "text": [
      "Result of multiplying vector by list of matrices: [ 91 123]\n"
     ]
    }
   ],
   "source": [
    "import numpy as np\n",
    "\n",
    "def f(x, matrices):\n",
    "    y = np.array(x)  # Convert the input vector to a NumPy array\n",
    "\n",
    "    for m in matrices:\n",
    "        y = np.dot(m, y)  # Use the .dot() method for matrix multiplication\n",
    "\n",
    "    return y\n",
    "\n",
    "# Example vector\n",
    "vector_x = [1, 2]\n",
    "\n",
    "# Example list of matrices\n",
    "matrices_list = [\n",
    "    [[1, 2], [3, 4]],  # First matrix\n",
    "    [[5, 6], [7, 8]]   # Second matrix\n",
    "]\n",
    "\n",
    "# Convert matrices to NumPy arrays\n",
    "matrices_list = [np.array(m) for m in matrices_list]\n",
    "\n",
    "# Call the function\n",
    "result = f(vector_x, matrices_list)\n",
    "print(\"Result of multiplying vector by list of matrices:\", result)"
   ]
  }
 ],
 "metadata": {
  "kernelspec": {
   "display_name": "Python 3 (ipykernel)",
   "language": "python",
   "name": "python3"
  },
  "language_info": {
   "codemirror_mode": {
    "name": "ipython",
    "version": 3
   },
   "file_extension": ".py",
   "mimetype": "text/x-python",
   "name": "python",
   "nbconvert_exporter": "python",
   "pygments_lexer": "ipython3",
   "version": "3.12.5"
  }
 },
 "nbformat": 4,
 "nbformat_minor": 5
}
