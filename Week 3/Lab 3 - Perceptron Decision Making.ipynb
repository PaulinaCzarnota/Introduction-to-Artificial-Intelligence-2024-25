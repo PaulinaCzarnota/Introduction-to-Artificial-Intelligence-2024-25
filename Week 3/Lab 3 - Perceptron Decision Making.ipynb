{
 "cells": [
  {
   "cell_type": "code",
   "execution_count": 1,
   "metadata": {},
   "outputs": [
    {
     "data": {
      "text/plain": [
       "6"
      ]
     },
     "execution_count": 1,
     "metadata": {},
     "output_type": "execute_result"
    }
   ],
   "source": [
    "# Here we will be using the example from Nielsen of whether to attend the cheese festive or not.\n",
    "# Our choice is based on 3 inputs: weather, friend, public transport\n",
    "# For example input [0,1,0] means bad weather, friend available, no public transport\n",
    "# A Perceptron can make this decision for us\n",
    "\n",
    "# First we will play around with vector dot product and matrix transpose etc\n",
    "\n",
    "# initial weights for a decision perceptron and sample inputs\n",
    "\n",
    "import numpy as np\n",
    "# sample weights vector w  and two input vectors i1 and i2\n",
    "w = np.array([6,2,2])\n",
    "i1 = np.array([1,0,0])\n",
    "i2 = np.array([0,1,1])\n",
    "\n",
    "# dot product of 2 vectors\n",
    "w.dot(i1)"
   ]
  },
  {
   "cell_type": "code",
   "execution_count": 3,
   "metadata": {},
   "outputs": [
    {
     "data": {
      "text/plain": [
       "4"
      ]
     },
     "execution_count": 3,
     "metadata": {},
     "output_type": "execute_result"
    }
   ],
   "source": [
    "w.dot(i2)"
   ]
  },
  {
   "cell_type": "code",
   "execution_count": 5,
   "metadata": {},
   "outputs": [
    {
     "name": "stdout",
     "output_type": "stream",
     "text": [
      "[[1 0 0]\n",
      " [0 1 1]]\n"
     ]
    }
   ],
   "source": [
    "# Put i1 and i2 into into a matrix, ecah vector will be a row.\n",
    "ins = np.array([i1, i2])\n",
    "print(ins)"
   ]
  },
  {
   "cell_type": "code",
   "execution_count": 69,
   "metadata": {},
   "outputs": [],
   "source": [
    "# why does this give errors?\n",
    "# Transposed ins to shape (3, 2) to match the dimensions for dot product; \n",
    "# original gave ValueError due to shape mismatch (3,) and (2,3) not aligning.\n",
    "result = w.dot(ins.T)"
   ]
  },
  {
   "cell_type": "code",
   "execution_count": 71,
   "metadata": {},
   "outputs": [
    {
     "name": "stdout",
     "output_type": "stream",
     "text": [
      "[[1 0]\n",
      " [0 1]\n",
      " [0 1]]\n"
     ]
    },
    {
     "data": {
      "text/plain": [
       "array([6, 4])"
      ]
     },
     "execution_count": 71,
     "metadata": {},
     "output_type": "execute_result"
    }
   ],
   "source": [
    "# A matrix transpose will convert rows into columnms and vice versa\n",
    "print(ins.T)\n",
    "w.dot(ins.T)"
   ]
  },
  {
   "cell_type": "code",
   "execution_count": 73,
   "metadata": {},
   "outputs": [
    {
     "data": {
      "text/plain": [
       "array([6, 4])"
      ]
     },
     "execution_count": 73,
     "metadata": {},
     "output_type": "execute_result"
    }
   ],
   "source": [
    "# Alternatively instead of using the transpose of ins, we could rearrange the dot product\n",
    "ins.dot(w)"
   ]
  },
  {
   "cell_type": "code",
   "execution_count": 75,
   "metadata": {},
   "outputs": [],
   "source": [
    "# Now we provide the full code for single decision perceptron for attending cheese festival or not\n",
    "# 3 variable input: weather good, friend coming too, public transport\n",
    "# Note that we are not training the Perceptron here. That's for the next lab\n",
    "\n",
    "import numpy as np\n",
    "\n",
    "def cheese_decide(input):\n",
    "    weights = np.array([6,2,2])\n",
    "    threshold = 5\n",
    "    if weights.dot(input) > threshold:\n",
    "        return 1\n",
    "    else:\n",
    "        return 0"
   ]
  },
  {
   "cell_type": "code",
   "execution_count": 77,
   "metadata": {},
   "outputs": [
    {
     "data": {
      "text/plain": [
       "1"
      ]
     },
     "execution_count": 77,
     "metadata": {},
     "output_type": "execute_result"
    }
   ],
   "source": [
    "# Perceptron favours good weather above all in deciding\n",
    "cheese_decide(i1)"
   ]
  },
  {
   "cell_type": "code",
   "execution_count": 79,
   "metadata": {},
   "outputs": [
    {
     "data": {
      "text/plain": [
       "0"
      ]
     },
     "execution_count": 79,
     "metadata": {},
     "output_type": "execute_result"
    }
   ],
   "source": [
    "# with poor weather, even with a friend coimg and public transport available not enough to go\n",
    "cheese_decide(i2)"
   ]
  },
  {
   "cell_type": "code",
   "execution_count": 81,
   "metadata": {},
   "outputs": [
    {
     "data": {
      "text/plain": [
       "1"
      ]
     },
     "execution_count": 81,
     "metadata": {},
     "output_type": "execute_result"
    }
   ],
   "source": [
    "# if you change threshold to 3 instead of 5, then with poor weather, friend coming and \n",
    "# public transport are enough to decide to go\n",
    "\n",
    "def cheese_decide(input):\n",
    "    weights = np.array([6,2,2])\n",
    "    threshold = 3\n",
    "    if weights.dot(input) > threshold:\n",
    "        return 1\n",
    "    else:\n",
    "        return 0\n",
    "\n",
    "cheese_decide( i2)"
   ]
  },
  {
   "cell_type": "code",
   "execution_count": 83,
   "metadata": {},
   "outputs": [],
   "source": [
    "# redfine cheese_decide perceptron to use bias instead of threshold, i.e. instead of \n",
    "# weights.dot(input) - threshold > 0  use\n",
    "# weights.dot(input) + bias >  0\n",
    "\n",
    "def cheese_decide1(input):\n",
    "    weights = np.array([6,2,2])\n",
    "    bias = -3\n",
    "    if weights.dot(input) + bias > 0:\n",
    "        return 1\n",
    "    else:\n",
    "        return 0\n"
   ]
  },
  {
   "cell_type": "code",
   "execution_count": 85,
   "metadata": {},
   "outputs": [
    {
     "data": {
      "text/plain": [
       "(1, 1, 0)"
      ]
     },
     "execution_count": 85,
     "metadata": {},
     "output_type": "execute_result"
    }
   ],
   "source": [
    "cheese_decide1([1,0,0]), cheese_decide1([0,1,1]), cheese_decide1([0,0,1])"
   ]
  },
  {
   "cell_type": "markdown",
   "metadata": {},
   "source": [
    "Exercise 1: Write a function nand(x) for a 2 input perceptron that implements logical NAND with weights -2 and -2 and bias 3. "
   ]
  },
  {
   "cell_type": "code",
   "execution_count": 88,
   "metadata": {},
   "outputs": [
    {
     "name": "stdout",
     "output_type": "stream",
     "text": [
      "[[0 0]\n",
      " [0 1]\n",
      " [1 0]\n",
      " [1 1]]\n"
     ]
    }
   ],
   "source": [
    "inputs = np.array([[0,0],[0,1], [1,0], [1,1]])\n",
    "print(inputs)"
   ]
  },
  {
   "cell_type": "code",
   "execution_count": 90,
   "metadata": {},
   "outputs": [
    {
     "name": "stdout",
     "output_type": "stream",
     "text": [
      "1 1 1 0\n"
     ]
    }
   ],
   "source": [
    "# complete the code and run it\n",
    "\n",
    "# Define the NAND function\n",
    "def nand(x):\n",
    "    weights = np.array([-2, -2])  # Weights for the inputs\n",
    "    bias = 3                        # Bias term\n",
    "    \n",
    "    # Calculate the linear output\n",
    "    linear_output = np.dot(weights, x) + bias\n",
    "    \n",
    "    # Step activation function\n",
    "    return 1 if linear_output > 0 else 0\n",
    "\n",
    "# Test the NAND function with all inputs\n",
    "print(nand(inputs[0]), nand(inputs[1]), nand(inputs[2]), nand(inputs[3]))"
   ]
  },
  {
   "cell_type": "markdown",
   "metadata": {},
   "source": [
    "Exercise 2: Rewrite the function nand(x) for the 2 input perceptron that implements logical NAND with weights -2 and -2 and bias 3 except that this time all the 4 input vectos are supplied together as a 4 by 2 array. Should return 4 corresponding ouputs as a vector. This will necessitate a loop to iteration thru all the input vectors."
   ]
  },
  {
   "cell_type": "code",
   "execution_count": 93,
   "metadata": {},
   "outputs": [
    {
     "name": "stdout",
     "output_type": "stream",
     "text": [
      "[1 1 1 0]\n"
     ]
    }
   ],
   "source": [
    "# Modify nand() so that is can process all the input vectos togethjer\n",
    "# complete the code and run it\n",
    "\n",
    "def nand(xs):  \n",
    "    weights = np.array([-2, -2])  # Weights for the inputs\n",
    "    bias = 3                       # Bias term\n",
    "    outputs = []                   # List to hold outputs\n",
    "    \n",
    "    # Iterate through all input vectors\n",
    "    for x in xs:\n",
    "        linear_output = np.dot(weights, x) + bias\n",
    "        outputs.append(1 if linear_output > 0 else 0)\n",
    "    \n",
    "    return np.array(outputs)  # Return outputs as a NumPy array\n",
    "\n",
    "# Test the modified nand function\n",
    "print(nand(inputs))"
   ]
  },
  {
   "cell_type": "code",
   "execution_count": 95,
   "metadata": {},
   "outputs": [
    {
     "name": "stdout",
     "output_type": "stream",
     "text": [
      "[0.00669285 0.26894142 0.5        0.73105858 0.99330715]\n"
     ]
    }
   ],
   "source": [
    "# Exercise: sigmoid function exercises\n",
    "# write code for this activation function and test it\n",
    "def sigmoid(z):\n",
    "    return 1 / (1 + np.exp(-z))\n",
    "\n",
    "# Test the sigmoid function with a range of values\n",
    "test_values = np.array([-5, -1, 0, 1, 5])\n",
    "sigmoid_outputs = sigmoid(test_values)\n",
    "\n",
    "# Print the outputs of the sigmoid function\n",
    "print(sigmoid_outputs)"
   ]
  },
  {
   "cell_type": "code",
   "execution_count": 97,
   "metadata": {},
   "outputs": [],
   "source": [
    "# Exercise: Matplotlib\n",
    "import matplotlib as mplot\n",
    "import matplotlib.pyplot as plt"
   ]
  },
  {
   "cell_type": "code",
   "execution_count": 51,
   "metadata": {},
   "outputs": [
    {
     "data": {
      "image/png": "[encoded data removed]",
      "text/plain": [
       "<Figure size 640x480 with 1 Axes>"
      ]
     },
     "metadata": {},
     "output_type": "display_data"
    }
   ],
   "source": [
    "# use Matplotlib to plot a graph of sigmoid\n",
    "# Look up an online tutorial for a simple example\n",
    "# Generate input values for plotting\n",
    "x = np.linspace(-10, 10, 100)  # 100 points from -10 to 10\n",
    "y = sigmoid(x)                  # Calculate sigmoid for each x value\n",
    "\n",
    "# Plot the sigmoid function\n",
    "plt.plot(x, y, label='Sigmoid Function', color='blue')\n",
    "plt.title('Sigmoid Function')\n",
    "plt.xlabel('Input')\n",
    "plt.ylabel('Output')\n",
    "plt.grid()\n",
    "plt.axhline(0, color='black', lw=0.5, ls='--')\n",
    "plt.axvline(0, color='black', lw=0.5, ls='--')\n",
    "plt.legend()\n",
    "plt.show()"
   ]
  }
 ],
 "metadata": {
  "kernelspec": {
   "display_name": "Python 3 (ipykernel)",
   "language": "python",
   "name": "python3"
  },
  "language_info": {
   "codemirror_mode": {
    "name": "ipython",
    "version": 3
   },
   "file_extension": ".py",
   "mimetype": "text/x-python",
   "name": "python",
   "nbconvert_exporter": "python",
   "pygments_lexer": "ipython3",
   "version": "3.11.7"
  }
 },
 "nbformat": 4,
 "nbformat_minor": 4
}
