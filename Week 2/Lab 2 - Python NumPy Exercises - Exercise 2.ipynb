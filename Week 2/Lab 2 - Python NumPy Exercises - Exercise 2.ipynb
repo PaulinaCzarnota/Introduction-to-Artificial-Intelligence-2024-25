{
 "cells": [
  {
   "cell_type": "code",
   "execution_count": 16,
   "id": "54f108f2-8ccc-4166-b0fa-c5090f9c10e9",
   "metadata": {},
   "outputs": [
    {
     "name": "stdout",
     "output_type": "stream",
     "text": [
      "(4,) (4,)\n",
      "[1 2 3 4] [2 3 0 1]\n"
     ]
    }
   ],
   "source": [
    "import numpy as np\n",
    "\n",
    "u = np.array([1,2,3,4])\n",
    "v = np.array([2,3,0,1])\n",
    "\n",
    "print(u.shape, v.shape)\n",
    "print(u, v)"
   ]
  },
  {
   "cell_type": "code",
   "execution_count": 17,
   "id": "562d9117-10cd-4546-b31d-f864cd62d4f1",
   "metadata": {},
   "outputs": [
    {
     "name": "stdout",
     "output_type": "stream",
     "text": [
      "[2 6 0 4] 12\n"
     ]
    }
   ],
   "source": [
    "print(u*v, u.dot(v)) # Hadamard product and vector dot product"
   ]
  },
  {
   "cell_type": "code",
   "execution_count": 18,
   "id": "4403fe8e-2f8d-4134-9f59-bc6af7b29b7e",
   "metadata": {},
   "outputs": [
    {
     "name": "stdout",
     "output_type": "stream",
     "text": [
      "(4, 1) \n",
      "\n",
      "[[1]\n",
      " [2]\n",
      " [3]\n",
      " [4]]\n"
     ]
    }
   ],
   "source": [
    "# next change u into column vector cu\n",
    "cu = u.reshape(4,1)\n",
    "print(cu.shape, \"\\n\")\n",
    "print(cu)"
   ]
  },
  {
   "cell_type": "code",
   "execution_count": 19,
   "id": "2f38a781-8cf5-4d72-bb2e-764121719eb9",
   "metadata": {},
   "outputs": [
    {
     "name": "stdout",
     "output_type": "stream",
     "text": [
      "[[ 2  3  0  1]\n",
      " [ 4  6  0  2]\n",
      " [ 6  9  0  3]\n",
      " [ 8 12  0  4]]\n"
     ]
    }
   ],
   "source": [
    "print(cu * v) # Hadamard product"
   ]
  },
  {
   "cell_type": "code",
   "execution_count": 20,
   "id": "8888265b-7c83-4fb5-8a4f-4905c4140fb4",
   "metadata": {},
   "outputs": [
    {
     "name": "stdout",
     "output_type": "stream",
     "text": [
      "[[1 2]\n",
      " [3 4]] \n",
      "\n",
      " [[ 2  1]\n",
      " [-2  3]]\n"
     ]
    }
   ],
   "source": [
    "m1 = np.array([[1, 2], [3, 4]])\n",
    "m2 = np.array([[2, 1], [-2, 3]])\n",
    "\n",
    "print(m1, \"\\n\\n\", m2)"
   ]
  },
  {
   "cell_type": "code",
   "execution_count": 21,
   "id": "71975ada-9c63-4d12-86b9-d3e2d5a68044",
   "metadata": {},
   "outputs": [
    {
     "name": "stdout",
     "output_type": "stream",
     "text": [
      "[[ 2  2]\n",
      " [-6 12]] \n",
      "\n",
      " [[-2  7]\n",
      " [-2 15]]\n"
     ]
    }
   ],
   "source": [
    "# Elementwise multiplication and matrix multiplication\n",
    "print(m1*m2,\"\\n\\n\", m1.dot(m2))"
   ]
  },
  {
   "cell_type": "code",
   "execution_count": 22,
   "id": "e6a511a1-4b01-437e-a1b7-1548be39772b",
   "metadata": {},
   "outputs": [],
   "source": [
    "# Define the matrix 'a'\n",
    "a = np.array([[1, 0, 0, 0],\n",
    "              [0, 1, 1, 0],\n",
    "              [0, 0, 1, 2]])"
   ]
  },
  {
   "cell_type": "code",
   "execution_count": 23,
   "id": "73adbee2-01da-4462-9e42-ff082d63c14f",
   "metadata": {},
   "outputs": [
    {
     "name": "stdout",
     "output_type": "stream",
     "text": [
      "[ 1  5 11] \n",
      "\n",
      "[[ 1]\n",
      " [ 5]\n",
      " [11]]\n"
     ]
    }
   ],
   "source": [
    "print(a.dot(u), \"\\n\")\n",
    "print(a.dot(cu))"
   ]
  },
  {
   "cell_type": "code",
   "execution_count": 24,
   "id": "0d7cadbb-110b-44c8-beee-069e6c85684d",
   "metadata": {},
   "outputs": [
    {
     "name": "stdout",
     "output_type": "stream",
     "text": [
      "[[1 0 0 0]\n",
      " [0 1 1 0]\n",
      " [0 0 1 2]] \n",
      "\n",
      "\n",
      " [[ 3  1]\n",
      " [ 2  2]\n",
      " [ 1  3]\n",
      " [ 1 11]]\n"
     ]
    }
   ],
   "source": [
    "b = np.array([[3,1], [2,2],[1,3], [1,11]])\n",
    "print(a,\"\\n\\n\\n\", b)"
   ]
  },
  {
   "cell_type": "code",
   "execution_count": 25,
   "id": "f0012e21-7831-4891-89bd-f988841ac950",
   "metadata": {},
   "outputs": [
    {
     "name": "stdout",
     "output_type": "stream",
     "text": [
      "[[ 3  1]\n",
      " [ 3  5]\n",
      " [ 3 25]]\n"
     ]
    }
   ],
   "source": [
    "print(a.dot(b))"
   ]
  },
  {
   "cell_type": "code",
   "execution_count": 26,
   "id": "66c67020-0811-4a21-a087-8c0932f8c35f",
   "metadata": {},
   "outputs": [
    {
     "data": {
      "text/plain": [
       "array([[1, 0, 0],\n",
       "       [0, 1, 0],\n",
       "       [0, 1, 1],\n",
       "       [0, 0, 2]])"
      ]
     },
     "execution_count": 26,
     "metadata": {},
     "output_type": "execute_result"
    }
   ],
   "source": [
    "# Transpose of a\n",
    "a.T"
   ]
  },
  {
   "cell_type": "code",
   "execution_count": 27,
   "id": "d95381a9-2fb5-4d7d-a923-f07d5d351355",
   "metadata": {},
   "outputs": [
    {
     "name": "stdout",
     "output_type": "stream",
     "text": [
      "(3, 4) (4, 3)\n"
     ]
    }
   ],
   "source": [
    "print(a.shape, a.T.shape)"
   ]
  },
  {
   "cell_type": "code",
   "execution_count": 28,
   "id": "7a918ed2-a135-4608-b441-bec8130cc3a9",
   "metadata": {},
   "outputs": [
    {
     "name": "stdout",
     "output_type": "stream",
     "text": [
      "[[1 0 0 0]\n",
      " [0 1 1 0]\n",
      " [0 0 1 2]]\n"
     ]
    }
   ],
   "source": [
    "print(a)"
   ]
  },
  {
   "cell_type": "code",
   "execution_count": 29,
   "id": "ad3f0921-958c-4672-a5ae-2b1d17be2aea",
   "metadata": {},
   "outputs": [
    {
     "data": {
      "text/plain": [
       "array([ 1,  5, 11])"
      ]
     },
     "execution_count": 29,
     "metadata": {},
     "output_type": "execute_result"
    }
   ],
   "source": [
    "u.dot(a.T)"
   ]
  },
  {
   "cell_type": "code",
   "execution_count": 30,
   "id": "7d3865d8-9f7d-44b8-b0eb-8c3645658e1f",
   "metadata": {},
   "outputs": [
    {
     "name": "stdout",
     "output_type": "stream",
     "text": [
      "[[0 0 0 0]\n",
      " [0 0 0 0]\n",
      " [0 0 0 0]]\n"
     ]
    }
   ],
   "source": [
    "# old fashioned code to multiply each element of a by 2  \n",
    "(m,n) = a.shape  \n",
    "c = np.zeros((m,n), \"int32\")  \n",
    "print (c) "
   ]
  },
  {
   "cell_type": "code",
   "execution_count": 31,
   "id": "fdf8f5d5-a312-4c9a-a68c-87fb3eb2119b",
   "metadata": {},
   "outputs": [
    {
     "name": "stdout",
     "output_type": "stream",
     "text": [
      "[[2 0 0 0]\n",
      " [0 2 2 0]\n",
      " [0 0 2 4]]\n"
     ]
    }
   ],
   "source": [
    "for i in range (m):  \n",
    "    for j in range (n):  \n",
    "        c[i,j] = a[i,j]*2  \n",
    "print (c) "
   ]
  },
  {
   "cell_type": "code",
   "execution_count": 32,
   "id": "3bddbb09-5bba-418a-b8c0-acaed2bffbb0",
   "metadata": {},
   "outputs": [
    {
     "name": "stdout",
     "output_type": "stream",
     "text": [
      "[[2 0 0 0]\n",
      " [0 2 2 0]\n",
      " [0 0 2 4]]\n"
     ]
    }
   ],
   "source": [
    "# easier way  \n",
    "print (a*2)  "
   ]
  }
 ],
 "metadata": {
  "kernelspec": {
   "display_name": "Python 3 (ipykernel)",
   "language": "python",
   "name": "python3"
  },
  "language_info": {
   "codemirror_mode": {
    "name": "ipython",
    "version": 3
   },
   "file_extension": ".py",
   "mimetype": "text/x-python",
   "name": "python",
   "nbconvert_exporter": "python",
   "pygments_lexer": "ipython3",
   "version": "3.12.7"
  }
 },
 "nbformat": 4,
 "nbformat_minor": 5
}
