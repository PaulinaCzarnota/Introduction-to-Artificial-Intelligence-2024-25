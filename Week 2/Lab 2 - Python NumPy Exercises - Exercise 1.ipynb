{
 "cells": [
  {
   "cell_type": "code",
   "execution_count": 1,
   "id": "fafd7807-7bf2-40fe-8e28-5c97a964234b",
   "metadata": {},
   "outputs": [
    {
     "name": "stdout",
     "output_type": "stream",
     "text": [
      "[4 2 6 1] \n",
      " [0.85437228 0.8551177  0.12765822 0.76164305]\n"
     ]
    }
   ],
   "source": [
    "import numpy as np\n",
    "v1 = np.array([4,2,6,1])\n",
    "v2 = np.random.rand(4)\n",
    "print(v1, \"\\n\", v2)"
   ]
  },
  {
   "cell_type": "code",
   "execution_count": 3,
   "id": "3827879a-0788-4967-b163-2842a5d8ef63",
   "metadata": {},
   "outputs": [
    {
     "data": {
      "text/plain": [
       "[16, 4, 36, 1]"
      ]
     },
     "execution_count": 3,
     "metadata": {},
     "output_type": "execute_result"
    }
   ],
   "source": [
    "w = [x**2 for x in v1]\n",
    "w"
   ]
  },
  {
   "cell_type": "code",
   "execution_count": 5,
   "id": "d794371f-05bb-48e0-8573-bb0a9d8ba33a",
   "metadata": {},
   "outputs": [
    {
     "data": {
      "text/plain": [
       "(4,)"
      ]
     },
     "execution_count": 5,
     "metadata": {},
     "output_type": "execute_result"
    }
   ],
   "source": [
    "v1.shape"
   ]
  },
  {
   "cell_type": "code",
   "execution_count": 7,
   "id": "56ada5e2-654f-4f77-8874-5b3b698e922d",
   "metadata": {},
   "outputs": [
    {
     "name": "stdout",
     "output_type": "stream",
     "text": [
      "4\n",
      "[0. 0. 0. 0.]\n",
      "[16.  4. 36.  1.]\n",
      "[16  4 36  1]\n"
     ]
    }
   ],
   "source": [
    "n, = v1.shape\n",
    "print(n)\n",
    "v3 = np.zeros(n)\n",
    "print(v3)\n",
    "for j in range(n):\n",
    "    v3[j] = v1[j]**2\n",
    "print(v3)\n",
    "v4 = v1**2\n",
    "print(v4)"
   ]
  }
 ],
 "metadata": {
  "kernelspec": {
   "display_name": "Python 3 (ipykernel)",
   "language": "python",
   "name": "python3"
  },
  "language_info": {
   "codemirror_mode": {
    "name": "ipython",
    "version": 3
   },
   "file_extension": ".py",
   "mimetype": "text/x-python",
   "name": "python",
   "nbconvert_exporter": "python",
   "pygments_lexer": "ipython3",
   "version": "3.12.5"
  }
 },
 "nbformat": 4,
 "nbformat_minor": 5
}
